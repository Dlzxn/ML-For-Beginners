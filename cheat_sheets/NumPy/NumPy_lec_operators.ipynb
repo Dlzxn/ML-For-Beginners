{
 "cells": [
  {
   "cell_type": "code",
   "id": "initial_id",
   "metadata": {
    "collapsed": true,
    "ExecuteTime": {
     "end_time": "2025-07-18T15:34:28.900069Z",
     "start_time": "2025-07-18T15:34:28.839513Z"
    }
   },
   "source": "import numpy as np",
   "outputs": [],
   "execution_count": 1
  },
  {
   "metadata": {},
   "cell_type": "markdown",
   "source": "Операции в NumPy",
   "id": "f5af2e51a1323867"
  },
  {
   "metadata": {
    "ExecuteTime": {
     "end_time": "2025-07-18T15:35:56.952423Z",
     "start_time": "2025-07-18T15:35:56.945139Z"
    }
   },
   "cell_type": "code",
   "source": [
    "arr = np.arange(0, 10)\n",
    "arr + 5"
   ],
   "id": "c891af7746f667dc",
   "outputs": [
    {
     "data": {
      "text/plain": [
       "array([ 5,  6,  7,  8,  9, 10, 11, 12, 13, 14])"
      ]
     },
     "execution_count": 2,
     "metadata": {},
     "output_type": "execute_result"
    }
   ],
   "execution_count": 2
  },
  {
   "metadata": {
    "ExecuteTime": {
     "end_time": "2025-07-18T15:36:10.110446Z",
     "start_time": "2025-07-18T15:36:10.106264Z"
    }
   },
   "cell_type": "code",
   "source": "arr - 5\n",
   "id": "5a84ea987379db40",
   "outputs": [
    {
     "data": {
      "text/plain": [
       "array([-5, -4, -3, -2, -1,  0,  1,  2,  3,  4])"
      ]
     },
     "execution_count": 3,
     "metadata": {},
     "output_type": "execute_result"
    }
   ],
   "execution_count": 3
  },
  {
   "metadata": {
    "ExecuteTime": {
     "end_time": "2025-07-18T15:36:28.904575Z",
     "start_time": "2025-07-18T15:36:28.900064Z"
    }
   },
   "cell_type": "code",
   "source": "arr * 5\n",
   "id": "6aed67c67d039050",
   "outputs": [
    {
     "data": {
      "text/plain": [
       "array([ 0,  5, 10, 15, 20, 25, 30, 35, 40, 45])"
      ]
     },
     "execution_count": 4,
     "metadata": {},
     "output_type": "execute_result"
    }
   ],
   "execution_count": 4
  },
  {
   "metadata": {
    "ExecuteTime": {
     "end_time": "2025-07-18T15:36:45.114244Z",
     "start_time": "2025-07-18T15:36:45.109247Z"
    }
   },
   "cell_type": "code",
   "source": "arr / 2",
   "id": "46b6b3047e0e167",
   "outputs": [
    {
     "data": {
      "text/plain": [
       "array([0. , 0.5, 1. , 1.5, 2. , 2.5, 3. , 3.5, 4. , 4.5])"
      ]
     },
     "execution_count": 5,
     "metadata": {},
     "output_type": "execute_result"
    }
   ],
   "execution_count": 5
  },
  {
   "metadata": {
    "ExecuteTime": {
     "end_time": "2025-07-18T15:37:20.197450Z",
     "start_time": "2025-07-18T15:37:20.193074Z"
    }
   },
   "cell_type": "code",
   "source": [
    "arr = np.arange(0, 10)\n",
    "arr + arr"
   ],
   "id": "298e91aa923f95fa",
   "outputs": [
    {
     "data": {
      "text/plain": [
       "array([ 0,  2,  4,  6,  8, 10, 12, 14, 16, 18])"
      ]
     },
     "execution_count": 7,
     "metadata": {},
     "output_type": "execute_result"
    }
   ],
   "execution_count": 7
  },
  {
   "metadata": {
    "ExecuteTime": {
     "end_time": "2025-07-18T15:38:05.427060Z",
     "start_time": "2025-07-18T15:38:05.422978Z"
    }
   },
   "cell_type": "code",
   "source": "arr * arr",
   "id": "56999c1ffa1807ae",
   "outputs": [
    {
     "data": {
      "text/plain": [
       "array([ 0,  1,  4,  9, 16, 25, 36, 49, 64, 81])"
      ]
     },
     "execution_count": 8,
     "metadata": {},
     "output_type": "execute_result"
    }
   ],
   "execution_count": 8
  },
  {
   "metadata": {
    "ExecuteTime": {
     "end_time": "2025-07-18T15:38:07.570144Z",
     "start_time": "2025-07-18T15:38:07.566151Z"
    }
   },
   "cell_type": "code",
   "source": "arr - arr",
   "id": "43655e36a43736d8",
   "outputs": [
    {
     "data": {
      "text/plain": [
       "array([0, 0, 0, 0, 0, 0, 0, 0, 0, 0])"
      ]
     },
     "execution_count": 9,
     "metadata": {},
     "output_type": "execute_result"
    }
   ],
   "execution_count": 9
  },
  {
   "metadata": {
    "ExecuteTime": {
     "end_time": "2025-07-18T15:38:53.242365Z",
     "start_time": "2025-07-18T15:38:53.237187Z"
    }
   },
   "cell_type": "code",
   "source": "arr / arr # обратить внимание на результат деления на 0\n",
   "id": "e57cb543c43514ae",
   "outputs": [
    {
     "name": "stderr",
     "output_type": "stream",
     "text": [
      "/tmp/ipykernel_185278/46910809.py:1: RuntimeWarning: invalid value encountered in divide\n",
      "  arr / arr\n"
     ]
    },
    {
     "data": {
      "text/plain": [
       "array([nan,  1.,  1.,  1.,  1.,  1.,  1.,  1.,  1.,  1.])"
      ]
     },
     "execution_count": 10,
     "metadata": {},
     "output_type": "execute_result"
    }
   ],
   "execution_count": 10
  },
  {
   "metadata": {
    "ExecuteTime": {
     "end_time": "2025-07-18T15:43:37.610557Z",
     "start_time": "2025-07-18T15:43:37.560156Z"
    }
   },
   "cell_type": "code",
   "source": "1 / arr # обратить внимание на результат деления на 0\n",
   "id": "6c50b38e234c0db",
   "outputs": [
    {
     "name": "stderr",
     "output_type": "stream",
     "text": [
      "/tmp/ipykernel_185278/809036706.py:1: RuntimeWarning: divide by zero encountered in divide\n",
      "  1 / arr\n"
     ]
    },
    {
     "data": {
      "text/plain": [
       "array([       inf, 1.        , 0.5       , 0.33333333, 0.25      ,\n",
       "       0.2       , 0.16666667, 0.14285714, 0.125     , 0.11111111])"
      ]
     },
     "execution_count": 11,
     "metadata": {},
     "output_type": "execute_result"
    }
   ],
   "execution_count": 11
  },
  {
   "metadata": {
    "ExecuteTime": {
     "end_time": "2025-07-18T15:45:27.055433Z",
     "start_time": "2025-07-18T15:45:27.051262Z"
    }
   },
   "cell_type": "code",
   "source": [
    "arr = np.arange(1, 10)\n",
    "\n",
    "np.sqrt(arr)"
   ],
   "id": "40f1e9b877349de7",
   "outputs": [
    {
     "data": {
      "text/plain": [
       "array([1.        , 1.41421356, 1.73205081, 2.        , 2.23606798,\n",
       "       2.44948974, 2.64575131, 2.82842712, 3.        ])"
      ]
     },
     "execution_count": 14,
     "metadata": {},
     "output_type": "execute_result"
    }
   ],
   "execution_count": 14
  },
  {
   "metadata": {
    "ExecuteTime": {
     "end_time": "2025-07-18T15:45:53.066716Z",
     "start_time": "2025-07-18T15:45:53.063004Z"
    }
   },
   "cell_type": "code",
   "source": "np.log(arr)",
   "id": "2eba7e116635aa38",
   "outputs": [
    {
     "data": {
      "text/plain": [
       "array([0.        , 0.69314718, 1.09861229, 1.38629436, 1.60943791,\n",
       "       1.79175947, 1.94591015, 2.07944154, 2.19722458])"
      ]
     },
     "execution_count": 15,
     "metadata": {},
     "output_type": "execute_result"
    }
   ],
   "execution_count": 15
  },
  {
   "metadata": {
    "ExecuteTime": {
     "end_time": "2025-07-18T15:46:03.518813Z",
     "start_time": "2025-07-18T15:46:03.508641Z"
    }
   },
   "cell_type": "code",
   "source": "np.sin(arr)",
   "id": "9182b47637f25f0b",
   "outputs": [
    {
     "data": {
      "text/plain": [
       "array([ 0.84147098,  0.90929743,  0.14112001, -0.7568025 , -0.95892427,\n",
       "       -0.2794155 ,  0.6569866 ,  0.98935825,  0.41211849])"
      ]
     },
     "execution_count": 16,
     "metadata": {},
     "output_type": "execute_result"
    }
   ],
   "execution_count": 16
  },
  {
   "metadata": {
    "ExecuteTime": {
     "end_time": "2025-07-18T15:46:12.159466Z",
     "start_time": "2025-07-18T15:46:12.155515Z"
    }
   },
   "cell_type": "code",
   "source": "np.cos(arr)",
   "id": "e32069e17e3d6ad3",
   "outputs": [
    {
     "data": {
      "text/plain": [
       "array([ 0.54030231, -0.41614684, -0.9899925 , -0.65364362,  0.28366219,\n",
       "        0.96017029,  0.75390225, -0.14550003, -0.91113026])"
      ]
     },
     "execution_count": 17,
     "metadata": {},
     "output_type": "execute_result"
    }
   ],
   "execution_count": 17
  },
  {
   "metadata": {},
   "cell_type": "markdown",
   "source": "**Так же присутствует и множество других функций**",
   "id": "86ee865a44dded53"
  },
  {
   "metadata": {
    "ExecuteTime": {
     "end_time": "2025-07-18T15:48:30.481686Z",
     "start_time": "2025-07-18T15:48:30.477236Z"
    }
   },
   "cell_type": "code",
   "source": "arr",
   "id": "ed1ed030a29706bb",
   "outputs": [
    {
     "data": {
      "text/plain": [
       "array([1, 2, 3, 4, 5, 6, 7, 8, 9])"
      ]
     },
     "execution_count": 21,
     "metadata": {},
     "output_type": "execute_result"
    }
   ],
   "execution_count": 21
  },
  {
   "metadata": {
    "ExecuteTime": {
     "end_time": "2025-07-18T15:47:54.111871Z",
     "start_time": "2025-07-18T15:47:54.106872Z"
    }
   },
   "cell_type": "code",
   "outputs": [
    {
     "data": {
      "text/plain": [
       "np.int64(9)"
      ]
     },
     "execution_count": 18,
     "metadata": {},
     "output_type": "execute_result"
    }
   ],
   "execution_count": 18,
   "source": "arr.max()",
   "id": "2b96443922fab192"
  },
  {
   "metadata": {
    "ExecuteTime": {
     "end_time": "2025-07-18T15:48:07.796306Z",
     "start_time": "2025-07-18T15:48:07.792344Z"
    }
   },
   "cell_type": "code",
   "outputs": [
    {
     "data": {
      "text/plain": [
       "np.int64(1)"
      ]
     },
     "execution_count": 19,
     "metadata": {},
     "output_type": "execute_result"
    }
   ],
   "execution_count": 19,
   "source": "arr.min()",
   "id": "496b44610a989b77"
  },
  {
   "metadata": {
    "ExecuteTime": {
     "end_time": "2025-07-18T15:48:08.963915Z",
     "start_time": "2025-07-18T15:48:08.959535Z"
    }
   },
   "cell_type": "code",
   "outputs": [
    {
     "data": {
      "text/plain": [
       "np.int64(45)"
      ]
     },
     "execution_count": 20,
     "metadata": {},
     "output_type": "execute_result"
    }
   ],
   "execution_count": 20,
   "source": "arr.sum()",
   "id": "4c5a17d3f598c826"
  },
  {
   "metadata": {
    "ExecuteTime": {
     "end_time": "2025-07-18T15:48:32.682811Z",
     "start_time": "2025-07-18T15:48:32.677128Z"
    }
   },
   "cell_type": "code",
   "source": "arr.mean() # среднее значение",
   "id": "837de716c41d88cd",
   "outputs": [
    {
     "data": {
      "text/plain": [
       "np.float64(5.0)"
      ]
     },
     "execution_count": 22,
     "metadata": {},
     "output_type": "execute_result"
    }
   ],
   "execution_count": 22
  },
  {
   "metadata": {
    "ExecuteTime": {
     "end_time": "2025-07-18T15:48:54.013548Z",
     "start_time": "2025-07-18T15:48:54.008801Z"
    }
   },
   "cell_type": "code",
   "source": "arr.var() #дисперсия\n",
   "id": "8fbeb935bb8289a2",
   "outputs": [
    {
     "data": {
      "text/plain": [
       "np.float64(6.666666666666667)"
      ]
     },
     "execution_count": 23,
     "metadata": {},
     "output_type": "execute_result"
    }
   ],
   "execution_count": 23
  },
  {
   "metadata": {
    "ExecuteTime": {
     "end_time": "2025-07-18T15:49:00.363780Z",
     "start_time": "2025-07-18T15:49:00.359152Z"
    }
   },
   "cell_type": "code",
   "source": "arr.std() # средне квадратичное отклонение",
   "id": "58f8dab4af49695",
   "outputs": [
    {
     "data": {
      "text/plain": [
       "np.float64(2.581988897471611)"
      ]
     },
     "execution_count": 24,
     "metadata": {},
     "output_type": "execute_result"
    }
   ],
   "execution_count": 24
  },
  {
   "metadata": {
    "ExecuteTime": {
     "end_time": "2025-07-18T15:51:22.413926Z",
     "start_time": "2025-07-18T15:51:22.409744Z"
    }
   },
   "cell_type": "code",
   "source": "arr.T #транспонирование вектора/матрицы\n",
   "id": "5a5e191c91a42512",
   "outputs": [
    {
     "data": {
      "text/plain": [
       "array([1, 2, 3, 4, 5, 6, 7, 8, 9])"
      ]
     },
     "execution_count": 25,
     "metadata": {},
     "output_type": "execute_result"
    }
   ],
   "execution_count": 25
  },
  {
   "metadata": {
    "ExecuteTime": {
     "end_time": "2025-07-18T15:52:29.218748Z",
     "start_time": "2025-07-18T15:52:29.214097Z"
    }
   },
   "cell_type": "code",
   "source": [
    "matr = np.array([[1, 2, 3], [3, 4, 5], [4, 5, 6]])\n",
    "matr"
   ],
   "id": "73ab42f1ea64ece9",
   "outputs": [
    {
     "data": {
      "text/plain": [
       "array([[1, 2, 3],\n",
       "       [3, 4, 5],\n",
       "       [4, 5, 6]])"
      ]
     },
     "execution_count": 28,
     "metadata": {},
     "output_type": "execute_result"
    }
   ],
   "execution_count": 28
  },
  {
   "metadata": {
    "ExecuteTime": {
     "end_time": "2025-07-18T15:52:33.642699Z",
     "start_time": "2025-07-18T15:52:33.638073Z"
    }
   },
   "cell_type": "code",
   "source": "matr.T",
   "id": "e65c4ed7baa76209",
   "outputs": [
    {
     "data": {
      "text/plain": [
       "array([[1, 3, 4],\n",
       "       [2, 4, 5],\n",
       "       [3, 5, 6]])"
      ]
     },
     "execution_count": 29,
     "metadata": {},
     "output_type": "execute_result"
    }
   ],
   "execution_count": 29
  },
  {
   "metadata": {
    "ExecuteTime": {
     "end_time": "2025-07-18T15:53:39.545812Z",
     "start_time": "2025-07-18T15:53:39.495935Z"
    }
   },
   "cell_type": "code",
   "source": [
    "vector_not_unique = np.array([1, 2, 3, 4, 5, 6, 5, 4, 6, 10])\n",
    "np.unique(vector_not_unique) # уникальность элементов(удаляет повторяющиеся)"
   ],
   "id": "894fde3613da4f29",
   "outputs": [
    {
     "data": {
      "text/plain": [
       "array([ 1,  2,  3,  4,  5,  6, 10])"
      ]
     },
     "execution_count": 31,
     "metadata": {},
     "output_type": "execute_result"
    }
   ],
   "execution_count": 31
  },
  {
   "metadata": {},
   "cell_type": "markdown",
   "source": "Работа со строками/столбцами в n-мерном пространстве",
   "id": "93500b1ee1cd6257"
  },
  {
   "metadata": {
    "ExecuteTime": {
     "end_time": "2025-07-18T15:57:26.168123Z",
     "start_time": "2025-07-18T15:57:26.163540Z"
    }
   },
   "cell_type": "code",
   "source": [
    "arr = np.arange(0, 25).reshape(5, 5)\n",
    "arr"
   ],
   "id": "6269d7e881a535bd",
   "outputs": [
    {
     "data": {
      "text/plain": [
       "array([[ 0,  1,  2,  3,  4],\n",
       "       [ 5,  6,  7,  8,  9],\n",
       "       [10, 11, 12, 13, 14],\n",
       "       [15, 16, 17, 18, 19],\n",
       "       [20, 21, 22, 23, 24]])"
      ]
     },
     "execution_count": 32,
     "metadata": {},
     "output_type": "execute_result"
    }
   ],
   "execution_count": 32
  },
  {
   "metadata": {
    "ExecuteTime": {
     "end_time": "2025-07-18T16:03:40.871062Z",
     "start_time": "2025-07-18T16:03:40.867155Z"
    }
   },
   "cell_type": "code",
   "source": "np.sum(arr, axis = 0 ) # сумма по колонкам",
   "id": "9d20135f8addb687",
   "outputs": [
    {
     "data": {
      "text/plain": [
       "array([50, 55, 60, 65, 70])"
      ]
     },
     "execution_count": 33,
     "metadata": {},
     "output_type": "execute_result"
    }
   ],
   "execution_count": 33
  },
  {
   "metadata": {
    "ExecuteTime": {
     "end_time": "2025-07-18T16:04:07.126482Z",
     "start_time": "2025-07-18T16:04:07.122259Z"
    }
   },
   "cell_type": "code",
   "source": "np.sum(arr, axis = 1 ) # суммы в отдельных строках",
   "id": "8c523c1fd52aec1c",
   "outputs": [
    {
     "data": {
      "text/plain": [
       "array([ 10,  35,  60,  85, 110])"
      ]
     },
     "execution_count": 35,
     "metadata": {},
     "output_type": "execute_result"
    }
   ],
   "execution_count": 35
  }
 ],
 "metadata": {
  "kernelspec": {
   "display_name": "Python 3",
   "language": "python",
   "name": "python3"
  },
  "language_info": {
   "codemirror_mode": {
    "name": "ipython",
    "version": 2
   },
   "file_extension": ".py",
   "mimetype": "text/x-python",
   "name": "python",
   "nbconvert_exporter": "python",
   "pygments_lexer": "ipython2",
   "version": "2.7.6"
  }
 },
 "nbformat": 4,
 "nbformat_minor": 5
}
