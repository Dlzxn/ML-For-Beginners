{
 "cells": [
  {
   "cell_type": "code",
   "id": "initial_id",
   "metadata": {
    "collapsed": true,
    "ExecuteTime": {
     "end_time": "2025-07-18T14:34:05.195595Z",
     "start_time": "2025-07-18T14:34:05.104204Z"
    }
   },
   "source": "import numpy as np",
   "outputs": [],
   "execution_count": 2
  },
  {
   "metadata": {},
   "cell_type": "markdown",
   "source": "Индексация массивов в NumPy",
   "id": "19e39efc1eaf48ef"
  },
  {
   "metadata": {
    "ExecuteTime": {
     "end_time": "2025-07-18T14:38:16.323398Z",
     "start_time": "2025-07-18T14:38:16.315831Z"
    }
   },
   "cell_type": "code",
   "source": [
    "arr = np.arange(0, 11)\n",
    "arr"
   ],
   "id": "be98c4ba0a6c3552",
   "outputs": [
    {
     "data": {
      "text/plain": [
       "array([ 0,  1,  2,  3,  4,  5,  6,  7,  8,  9, 10])"
      ]
     },
     "execution_count": 4,
     "metadata": {},
     "output_type": "execute_result"
    }
   ],
   "execution_count": 4
  },
  {
   "metadata": {
    "ExecuteTime": {
     "end_time": "2025-07-18T14:38:24.940718Z",
     "start_time": "2025-07-18T14:38:24.936447Z"
    }
   },
   "cell_type": "code",
   "source": "arr[1]",
   "id": "1012ce9e89205bed",
   "outputs": [
    {
     "data": {
      "text/plain": [
       "np.int64(1)"
      ]
     },
     "execution_count": 5,
     "metadata": {},
     "output_type": "execute_result"
    }
   ],
   "execution_count": 5
  },
  {
   "metadata": {
    "ExecuteTime": {
     "end_time": "2025-07-18T14:38:36.648606Z",
     "start_time": "2025-07-18T14:38:36.644755Z"
    }
   },
   "cell_type": "code",
   "source": "arr[1: 5]",
   "id": "db2938db2c3cbcf4",
   "outputs": [
    {
     "data": {
      "text/plain": [
       "array([1, 2, 3, 4])"
      ]
     },
     "execution_count": 6,
     "metadata": {},
     "output_type": "execute_result"
    }
   ],
   "execution_count": 6
  },
  {
   "metadata": {
    "ExecuteTime": {
     "end_time": "2025-07-18T14:38:54.059026Z",
     "start_time": "2025-07-18T14:38:54.054071Z"
    }
   },
   "cell_type": "code",
   "source": "arr[5:]",
   "id": "574d2666f843624f",
   "outputs": [
    {
     "data": {
      "text/plain": [
       "array([ 5,  6,  7,  8,  9, 10])"
      ]
     },
     "execution_count": 7,
     "metadata": {},
     "output_type": "execute_result"
    }
   ],
   "execution_count": 7
  },
  {
   "metadata": {},
   "cell_type": "markdown",
   "source": "**Операция Broadcast**",
   "id": "cab67d6b30ad36cf"
  },
  {
   "metadata": {
    "ExecuteTime": {
     "end_time": "2025-07-18T14:43:36.704429Z",
     "start_time": "2025-07-18T14:43:36.699382Z"
    }
   },
   "cell_type": "code",
   "source": [
    "arr[5:10] = 999\n",
    "arr"
   ],
   "id": "76a7b51e722297a2",
   "outputs": [
    {
     "data": {
      "text/plain": [
       "array([  0,   1,   2,   3,   4, 999, 999, 999, 999, 999,  10])"
      ]
     },
     "execution_count": 8,
     "metadata": {},
     "output_type": "execute_result"
    }
   ],
   "execution_count": 8
  },
  {
   "metadata": {},
   "cell_type": "markdown",
   "source": "Срез array является ссылкой",
   "id": "47580a3d0538b5fe"
  },
  {
   "metadata": {
    "ExecuteTime": {
     "end_time": "2025-07-18T14:46:30.763818Z",
     "start_time": "2025-07-18T14:46:30.759329Z"
    }
   },
   "cell_type": "code",
   "source": [
    "arr = np.arange(0, 11)\n",
    "slice = arr[1:5]\n",
    "arr[2] = 9999\n",
    "slice"
   ],
   "id": "39409bcf753f22b2",
   "outputs": [
    {
     "data": {
      "text/plain": [
       "array([   1, 9999,    3,    4])"
      ]
     },
     "execution_count": 13,
     "metadata": {},
     "output_type": "execute_result"
    }
   ],
   "execution_count": 13
  },
  {
   "metadata": {
    "ExecuteTime": {
     "end_time": "2025-07-18T14:48:31.728670Z",
     "start_time": "2025-07-18T14:48:31.723993Z"
    }
   },
   "cell_type": "code",
   "source": [
    "slice[:] = 900\n",
    "arr"
   ],
   "id": "ac309f7798ed71cc",
   "outputs": [
    {
     "data": {
      "text/plain": [
       "array([  0, 900, 900, 900, 900,   5,   6,   7,   8,   9,  10])"
      ]
     },
     "execution_count": 14,
     "metadata": {},
     "output_type": "execute_result"
    }
   ],
   "execution_count": 14
  },
  {
   "metadata": {},
   "cell_type": "markdown",
   "source": "**Копия array**\n",
   "id": "eeada29b16d28636"
  },
  {
   "metadata": {
    "ExecuteTime": {
     "end_time": "2025-07-18T14:51:11.926581Z",
     "start_time": "2025-07-18T14:51:11.922043Z"
    }
   },
   "cell_type": "code",
   "source": [
    "arr_1 = np.copy(arr)\n",
    "arr[:] = 103\n",
    "arr_1"
   ],
   "id": "8966f1ac5660a79a",
   "outputs": [
    {
     "data": {
      "text/plain": [
       "array([  0, 900, 900, 900, 900,   5,   6,   7,   8,   9,  10])"
      ]
     },
     "execution_count": 16,
     "metadata": {},
     "output_type": "execute_result"
    }
   ],
   "execution_count": 16
  },
  {
   "metadata": {},
   "cell_type": "markdown",
   "source": "**Срез по матрице**",
   "id": "1cf2c3fadb16cacf"
  },
  {
   "metadata": {
    "ExecuteTime": {
     "end_time": "2025-07-18T14:58:18.872221Z",
     "start_time": "2025-07-18T14:58:18.867796Z"
    }
   },
   "cell_type": "code",
   "source": [
    "arr = np.array([[1, 2, 3], [3, 4, 5], [10, 11, 12]])\n",
    "arr[:2, 1:]"
   ],
   "id": "c112d04eb5adbbc6",
   "outputs": [
    {
     "data": {
      "text/plain": [
       "array([[2, 3],\n",
       "       [4, 5]])"
      ]
     },
     "execution_count": 19,
     "metadata": {},
     "output_type": "execute_result"
    }
   ],
   "execution_count": 19
  },
  {
   "metadata": {},
   "cell_type": "markdown",
   "source": "**Выбор по условию**",
   "id": "d5661b8b224910d7"
  },
  {
   "metadata": {
    "ExecuteTime": {
     "end_time": "2025-07-18T15:00:27.100229Z",
     "start_time": "2025-07-18T15:00:27.088835Z"
    }
   },
   "cell_type": "code",
   "source": [
    "arr = np.arange(1, 20)\n",
    "arr % 2 ==0"
   ],
   "id": "f167f511418462cc",
   "outputs": [
    {
     "data": {
      "text/plain": [
       "array([False,  True, False,  True, False,  True, False,  True, False,\n",
       "        True, False,  True, False,  True, False,  True, False,  True,\n",
       "       False])"
      ]
     },
     "execution_count": 20,
     "metadata": {},
     "output_type": "execute_result"
    }
   ],
   "execution_count": 20
  },
  {
   "metadata": {
    "ExecuteTime": {
     "end_time": "2025-07-18T15:03:07.782384Z",
     "start_time": "2025-07-18T15:03:07.776919Z"
    }
   },
   "cell_type": "code",
   "source": [
    "bool_array = arr > 4\n",
    "arr[bool_array]"
   ],
   "id": "18859c33eb5f0054",
   "outputs": [
    {
     "data": {
      "text/plain": [
       "array([ 5,  6,  7,  8,  9, 10, 11, 12, 13, 14, 15, 16, 17, 18, 19])"
      ]
     },
     "execution_count": 24,
     "metadata": {},
     "output_type": "execute_result"
    }
   ],
   "execution_count": 24
  },
  {
   "metadata": {
    "ExecuteTime": {
     "end_time": "2025-07-18T15:04:16.697583Z",
     "start_time": "2025-07-18T15:04:16.693098Z"
    }
   },
   "cell_type": "code",
   "source": [
    "arr = np.array([[1, 2, 3], [3, 4, 5], [10, 11, 12]])\n",
    "arr[arr > 4]"
   ],
   "id": "765f05c25e6a0935",
   "outputs": [
    {
     "data": {
      "text/plain": [
       "array([ 5, 10, 11, 12])"
      ]
     },
     "execution_count": 25,
     "metadata": {},
     "output_type": "execute_result"
    }
   ],
   "execution_count": 25
  }
 ],
 "metadata": {
  "kernelspec": {
   "display_name": "Python 3",
   "language": "python",
   "name": "python3"
  },
  "language_info": {
   "codemirror_mode": {
    "name": "ipython",
    "version": 2
   },
   "file_extension": ".py",
   "mimetype": "text/x-python",
   "name": "python",
   "nbconvert_exporter": "python",
   "pygments_lexer": "ipython2",
   "version": "2.7.6"
  }
 },
 "nbformat": 4,
 "nbformat_minor": 5
}
