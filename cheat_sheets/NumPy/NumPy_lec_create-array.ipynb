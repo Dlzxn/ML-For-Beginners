{
 "cells": [
  {
   "cell_type": "code",
   "id": "initial_id",
   "metadata": {
    "collapsed": true,
    "ExecuteTime": {
     "end_time": "2025-07-18T08:53:03.485666Z",
     "start_time": "2025-07-18T08:53:03.482451Z"
    }
   },
   "source": "import numpy as np",
   "outputs": [],
   "execution_count": 42
  },
  {
   "metadata": {},
   "cell_type": "markdown",
   "source": "Шпаргалка по NumPy",
   "id": "66b3cde656445594"
  },
  {
   "metadata": {
    "ExecuteTime": {
     "end_time": "2025-07-18T08:53:03.510386Z",
     "start_time": "2025-07-18T08:53:03.506202Z"
    }
   },
   "cell_type": "code",
   "source": [
    "import numpy as np\n",
    "num_1 = np.array([1, 2, 3])\n",
    "np.arange(3, 0, -1)"
   ],
   "id": "5373348be0233a6a",
   "outputs": [
    {
     "data": {
      "text/plain": [
       "array([3, 2, 1])"
      ]
     },
     "execution_count": 43,
     "metadata": {},
     "output_type": "execute_result"
    }
   ],
   "execution_count": 43
  },
  {
   "metadata": {},
   "cell_type": "markdown",
   "source": "Нулевая матрица:",
   "id": "d44640180cca8353"
  },
  {
   "metadata": {
    "ExecuteTime": {
     "end_time": "2025-07-18T08:53:03.565574Z",
     "start_time": "2025-07-18T08:53:03.561492Z"
    }
   },
   "cell_type": "code",
   "source": "np.zeros((3, 3), dtype=float)",
   "id": "e8692e28ba697f20",
   "outputs": [
    {
     "data": {
      "text/plain": [
       "array([[0., 0., 0.],\n",
       "       [0., 0., 0.],\n",
       "       [0., 0., 0.]])"
      ]
     },
     "execution_count": 44,
     "metadata": {},
     "output_type": "execute_result"
    }
   ],
   "execution_count": 44
  },
  {
   "metadata": {
    "ExecuteTime": {
     "end_time": "2025-07-18T08:53:03.652583Z",
     "start_time": "2025-07-18T08:53:03.649399Z"
    }
   },
   "cell_type": "code",
   "source": "np.zeros(3)",
   "id": "9dcc9f539d99b42c",
   "outputs": [
    {
     "data": {
      "text/plain": [
       "array([0., 0., 0.])"
      ]
     },
     "execution_count": 45,
     "metadata": {},
     "output_type": "execute_result"
    }
   ],
   "execution_count": 45
  },
  {
   "metadata": {},
   "cell_type": "markdown",
   "source": "**Единичные вектора**---",
   "id": "4ff5a117a91188c1"
  },
  {
   "metadata": {
    "ExecuteTime": {
     "end_time": "2025-07-18T08:53:03.757294Z",
     "start_time": "2025-07-18T08:53:03.750448Z"
    }
   },
   "cell_type": "code",
   "source": "np.ones((3, 3), dtype=float)",
   "id": "be1940cf265ba587",
   "outputs": [
    {
     "data": {
      "text/plain": [
       "array([[1., 1., 1.],\n",
       "       [1., 1., 1.],\n",
       "       [1., 1., 1.]])"
      ]
     },
     "execution_count": 46,
     "metadata": {},
     "output_type": "execute_result"
    }
   ],
   "execution_count": 46
  },
  {
   "metadata": {
    "ExecuteTime": {
     "end_time": "2025-07-18T08:53:03.858189Z",
     "start_time": "2025-07-18T08:53:03.853773Z"
    }
   },
   "cell_type": "code",
   "source": "np.ones(3 , dtype=float)",
   "id": "e9d9c5a456479855",
   "outputs": [
    {
     "data": {
      "text/plain": [
       "array([1., 1., 1.])"
      ]
     },
     "execution_count": 47,
     "metadata": {},
     "output_type": "execute_result"
    }
   ],
   "execution_count": 47
  },
  {
   "metadata": {},
   "cell_type": "markdown",
   "source": "**n Чисел в диапазоне с равной разницей:**",
   "id": "2e1b4283d37ffe0e"
  },
  {
   "metadata": {
    "ExecuteTime": {
     "end_time": "2025-07-18T08:53:03.947294Z",
     "start_time": "2025-07-18T08:53:03.945362Z"
    }
   },
   "cell_type": "code",
   "source": "",
   "id": "30586b29c5691c74",
   "outputs": [],
   "execution_count": null
  },
  {
   "metadata": {
    "ExecuteTime": {
     "end_time": "2025-07-18T08:53:04.006668Z",
     "start_time": "2025-07-18T08:53:04.001118Z"
    }
   },
   "cell_type": "code",
   "source": "np.linspace(0, 10, 3)",
   "id": "8adaa16303d9e06c",
   "outputs": [
    {
     "data": {
      "text/plain": [
       "array([ 0.,  5., 10.])"
      ]
     },
     "execution_count": 48,
     "metadata": {},
     "output_type": "execute_result"
    }
   ],
   "execution_count": 48
  },
  {
   "metadata": {
    "ExecuteTime": {
     "end_time": "2025-07-18T08:53:04.057427Z",
     "start_time": "2025-07-18T08:53:04.053047Z"
    }
   },
   "cell_type": "code",
   "source": "np.linspace(0, 10)",
   "id": "5c1461a9305674f9",
   "outputs": [
    {
     "data": {
      "text/plain": [
       "array([ 0.        ,  0.20408163,  0.40816327,  0.6122449 ,  0.81632653,\n",
       "        1.02040816,  1.2244898 ,  1.42857143,  1.63265306,  1.83673469,\n",
       "        2.04081633,  2.24489796,  2.44897959,  2.65306122,  2.85714286,\n",
       "        3.06122449,  3.26530612,  3.46938776,  3.67346939,  3.87755102,\n",
       "        4.08163265,  4.28571429,  4.48979592,  4.69387755,  4.89795918,\n",
       "        5.10204082,  5.30612245,  5.51020408,  5.71428571,  5.91836735,\n",
       "        6.12244898,  6.32653061,  6.53061224,  6.73469388,  6.93877551,\n",
       "        7.14285714,  7.34693878,  7.55102041,  7.75510204,  7.95918367,\n",
       "        8.16326531,  8.36734694,  8.57142857,  8.7755102 ,  8.97959184,\n",
       "        9.18367347,  9.3877551 ,  9.59183673,  9.79591837, 10.        ])"
      ]
     },
     "execution_count": 49,
     "metadata": {},
     "output_type": "execute_result"
    }
   ],
   "execution_count": 49
  },
  {
   "metadata": {},
   "cell_type": "markdown",
   "source": "Единичная матрица",
   "id": "f070007b4b9b4cb3"
  },
  {
   "metadata": {
    "ExecuteTime": {
     "end_time": "2025-07-18T08:53:04.111117Z",
     "start_time": "2025-07-18T08:53:04.106884Z"
    }
   },
   "cell_type": "code",
   "source": "np.eye(3, 3, dtype=int)",
   "id": "7cd091051ced6c31",
   "outputs": [
    {
     "data": {
      "text/plain": [
       "array([[1, 0, 0],\n",
       "       [0, 1, 0],\n",
       "       [0, 0, 1]])"
      ]
     },
     "execution_count": 50,
     "metadata": {},
     "output_type": "execute_result"
    }
   ],
   "execution_count": 50
  },
  {
   "metadata": {},
   "cell_type": "markdown",
   "source": "Псевдослучайные вектора в интервале [0, 1)\n",
   "id": "5e0b0ba34924b5dc"
  },
  {
   "metadata": {
    "ExecuteTime": {
     "end_time": "2025-07-18T08:53:04.198229Z",
     "start_time": "2025-07-18T08:53:04.195289Z"
    }
   },
   "cell_type": "code",
   "source": "np.random.rand(3, 5)",
   "id": "317ae82e05e732aa",
   "outputs": [
    {
     "data": {
      "text/plain": [
       "array([[-0.57138017, -0.92408284, -2.61254901,  0.95036968,  0.81644508],\n",
       "       [-1.523876  , -0.42804606, -0.74240684, -0.7033438 , -2.13962066],\n",
       "       [-0.62947496,  0.59772047,  2.55948803,  0.39423302,  0.12221917]])"
      ]
     },
     "execution_count": 51,
     "metadata": {},
     "output_type": "execute_result"
    }
   ],
   "execution_count": 51
  },
  {
   "metadata": {},
   "cell_type": "markdown",
   "source": "Случайные целый в интервале",
   "id": "6b7633156a77f7ec"
  },
  {
   "metadata": {
    "ExecuteTime": {
     "end_time": "2025-07-18T08:53:04.331112Z",
     "start_time": "2025-07-18T08:53:04.327884Z"
    }
   },
   "cell_type": "code",
   "source": "np.random.randint(2, 300, (2, 2))",
   "id": "ccf89ba3cbc870b",
   "outputs": [
    {
     "data": {
      "text/plain": [
       "array([[ 22, 168],\n",
       "       [275,  90]])"
      ]
     },
     "execution_count": 52,
     "metadata": {},
     "output_type": "execute_result"
    }
   ],
   "execution_count": 52
  },
  {
   "metadata": {},
   "cell_type": "markdown",
   "source": "Случайные по сид-числу",
   "id": "9a359bf5e213d68b"
  },
  {
   "metadata": {
    "ExecuteTime": {
     "end_time": "2025-07-18T12:25:14.812365Z",
     "start_time": "2025-07-18T12:25:14.808216Z"
    }
   },
   "cell_type": "code",
   "source": [
    "np.random.seed(22)\n",
    "np.random.rand(3, 5)"
   ],
   "id": "b16dd0bfa300de4",
   "outputs": [
    {
     "data": {
      "text/plain": [
       "array([[0.20846054, 0.48168106, 0.42053804, 0.859182  , 0.17116155],\n",
       "       [0.33886396, 0.27053283, 0.69104135, 0.22040452, 0.81195092],\n",
       "       [0.01052687, 0.5612037 , 0.81372619, 0.7451003 , 0.18911136]])"
      ]
     },
     "execution_count": 84,
     "metadata": {},
     "output_type": "execute_result"
    }
   ],
   "execution_count": 84
  },
  {
   "metadata": {},
   "cell_type": "markdown",
   "source": "Метод для форматирования размерности",
   "id": "f9c50e0f8fab327e"
  },
  {
   "metadata": {
    "ExecuteTime": {
     "end_time": "2025-07-18T08:58:18.868663Z",
     "start_time": "2025-07-18T08:58:18.862437Z"
    }
   },
   "cell_type": "code",
   "source": [
    "arr = np.arange(0, 25)\n",
    "# эквивалентные записи\n",
    "print(np.reshape(arr, (5, 5)))\n",
    "arr.reshape(5, 5)"
   ],
   "id": "c3468e87d35cf01a",
   "outputs": [
    {
     "name": "stdout",
     "output_type": "stream",
     "text": [
      "[[ 0  1  2  3  4]\n",
      " [ 5  6  7  8  9]\n",
      " [10 11 12 13 14]\n",
      " [15 16 17 18 19]\n",
      " [20 21 22 23 24]]\n"
     ]
    },
    {
     "data": {
      "text/plain": [
       "array([[ 0,  1,  2,  3,  4],\n",
       "       [ 5,  6,  7,  8,  9],\n",
       "       [10, 11, 12, 13, 14],\n",
       "       [15, 16, 17, 18, 19],\n",
       "       [20, 21, 22, 23, 24]])"
      ]
     },
     "execution_count": 64,
     "metadata": {},
     "output_type": "execute_result"
    }
   ],
   "execution_count": 64
  },
  {
   "metadata": {},
   "cell_type": "markdown",
   "source": "max min armax argmin",
   "id": "21875ecb4ee464da"
  },
  {
   "metadata": {
    "ExecuteTime": {
     "end_time": "2025-07-18T09:00:15.538944Z",
     "start_time": "2025-07-18T09:00:15.534311Z"
    }
   },
   "cell_type": "code",
   "source": [
    "arr = np.arange(0, 125)\n",
    "arr.max()"
   ],
   "id": "e85801c58d973a00",
   "outputs": [
    {
     "data": {
      "text/plain": [
       "np.int64(124)"
      ]
     },
     "execution_count": 65,
     "metadata": {},
     "output_type": "execute_result"
    }
   ],
   "execution_count": 65
  },
  {
   "metadata": {
    "ExecuteTime": {
     "end_time": "2025-07-18T09:00:30.689675Z",
     "start_time": "2025-07-18T09:00:30.685242Z"
    }
   },
   "cell_type": "code",
   "source": "arr.min()",
   "id": "45d2ec576b692306",
   "outputs": [
    {
     "data": {
      "text/plain": [
       "np.int64(0)"
      ]
     },
     "execution_count": 66,
     "metadata": {},
     "output_type": "execute_result"
    }
   ],
   "execution_count": 66
  },
  {
   "metadata": {
    "ExecuteTime": {
     "end_time": "2025-07-18T09:00:39.599880Z",
     "start_time": "2025-07-18T09:00:39.590854Z"
    }
   },
   "cell_type": "code",
   "source": "arr.argmin()",
   "id": "b8594ea4bc55abe6",
   "outputs": [
    {
     "data": {
      "text/plain": [
       "np.int64(0)"
      ]
     },
     "execution_count": 67,
     "metadata": {},
     "output_type": "execute_result"
    }
   ],
   "execution_count": 67
  },
  {
   "metadata": {},
   "cell_type": "markdown",
   "source": "Атрибуты NumPy:",
   "id": "731622a450a76f96"
  },
  {
   "metadata": {
    "ExecuteTime": {
     "end_time": "2025-07-18T12:20:32.173328Z",
     "start_time": "2025-07-18T12:20:32.169836Z"
    }
   },
   "cell_type": "code",
   "source": "arr.dtype",
   "id": "a220af5e19f7bc9a",
   "outputs": [
    {
     "data": {
      "text/plain": [
       "dtype('int64')"
      ]
     },
     "execution_count": 68,
     "metadata": {},
     "output_type": "execute_result"
    }
   ],
   "execution_count": 68
  },
  {
   "metadata": {
    "ExecuteTime": {
     "end_time": "2025-07-18T12:21:52.783398Z",
     "start_time": "2025-07-18T12:21:52.779896Z"
    }
   },
   "cell_type": "code",
   "source": "arr.shape",
   "id": "5ef1b973f90e39f9",
   "outputs": [
    {
     "data": {
      "text/plain": [
       "(125,)"
      ]
     },
     "execution_count": 69,
     "metadata": {},
     "output_type": "execute_result"
    }
   ],
   "execution_count": 69
  },
  {
   "metadata": {
    "ExecuteTime": {
     "end_time": "2025-07-18T12:28:27.663334Z",
     "start_time": "2025-07-18T12:28:27.658752Z"
    }
   },
   "cell_type": "code",
   "source": [
    "arr = np.arange(0, 25)\n",
    "arr = arr.reshape(5, 5)\n",
    "arr.shape"
   ],
   "id": "d581c8c9dd356e73",
   "outputs": [
    {
     "data": {
      "text/plain": [
       "(5, 5)"
      ]
     },
     "execution_count": 93,
     "metadata": {},
     "output_type": "execute_result"
    }
   ],
   "execution_count": 93
  }
 ],
 "metadata": {
  "kernelspec": {
   "display_name": "Python 3",
   "language": "python",
   "name": "python3"
  },
  "language_info": {
   "codemirror_mode": {
    "name": "ipython",
    "version": 2
   },
   "file_extension": ".py",
   "mimetype": "text/x-python",
   "name": "python",
   "nbconvert_exporter": "python",
   "pygments_lexer": "ipython2",
   "version": "2.7.6"
  }
 },
 "nbformat": 4,
 "nbformat_minor": 5
}
